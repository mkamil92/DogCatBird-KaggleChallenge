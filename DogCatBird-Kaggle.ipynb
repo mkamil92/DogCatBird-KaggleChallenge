{
  "nbformat": 4,
  "nbformat_minor": 0,
  "metadata": {
    "colab": {
      "provenance": []
    },
    "kernelspec": {
      "name": "python3",
      "display_name": "Python 3"
    },
    "language_info": {
      "name": "python"
    }
  },
  "cells": [
    {
      "cell_type": "code",
      "execution_count": null,
      "metadata": {
        "colab": {
          "base_uri": "https://localhost:8080/"
        },
        "id": "Ni4AaLlo1GAS",
        "outputId": "a07fdb06-d8f0-4f89-ae54-4bd0f7fec3b1"
      },
      "outputs": [
        {
          "output_type": "stream",
          "name": "stdout",
          "text": [
            "Mounted at /content/drive\n"
          ]
        }
      ],
      "source": [
        "from google.colab import drive\n",
        "drive.mount('/content/drive')"
      ]
    },
    {
      "cell_type": "markdown",
      "source": [
        "# **Imports all required libraries**"
      ],
      "metadata": {
        "id": "Fr37PVztn7z9"
      }
    },
    {
      "cell_type": "code",
      "source": [
        "import torch\n",
        "import torch.nn as nn\n",
        "import torch.optim as optim\n",
        "from torch.optim import lr_scheduler\n",
        "from torch.utils.data import DataLoader, random_split\n",
        "from torchvision import datasets, transforms, models\n",
        "import matplotlib.pyplot as plt\n",
        "import numpy as np\n",
        "import os\n",
        "import matplotlib.pyplot as plt\n",
        "from PIL import Image\n",
        "import torch.optim as optim\n",
        "from torch.optim.lr_scheduler import CosineAnnealingLR\n",
        "import seaborn as sns\n",
        "from collections import Counter\n",
        "import torch.nn.functional as F\n",
        "import pandas as pd\n",
        "from PIL import Image\n",
        "from torch.utils.data import Dataset, DataLoader\n",
        "from torchvision import transforms\n",
        "import random"
      ],
      "metadata": {
        "id": "5dhNSuwF1z5h"
      },
      "execution_count": null,
      "outputs": []
    },
    {
      "cell_type": "code",
      "source": [
        "device = torch.device(\"cuda\" if torch.cuda.is_available() else \"cpu\")\n",
        "print(f\"Using device: {device}\")"
      ],
      "metadata": {
        "colab": {
          "base_uri": "https://localhost:8080/"
        },
        "id": "McW2IGoF2L8Z",
        "outputId": "cb1b5939-203d-4f15-85a6-dd6a3e49fa47"
      },
      "execution_count": null,
      "outputs": [
        {
          "output_type": "stream",
          "name": "stdout",
          "text": [
            "Using device: cpu\n"
          ]
        }
      ]
    },
    {
      "cell_type": "markdown",
      "source": [
        "# **3.1 Data Preparation and Exploration**"
      ],
      "metadata": {
        "id": "5HmIxM53tCso"
      }
    },
    {
      "cell_type": "markdown",
      "source": [
        "## **Loading dataset from google collaboratory**"
      ],
      "metadata": {
        "id": "JTBmDzkvoHIc"
      }
    },
    {
      "cell_type": "code",
      "source": [
        "data_dir = \"/content/drive/MyDrive/dataset\"\n",
        "train_dir = os.path.join(data_dir, \"train\")\n",
        "test_dir = os.path.join(data_dir, \"test\")"
      ],
      "metadata": {
        "id": "CD9Kr_-52P3K"
      },
      "execution_count": null,
      "outputs": []
    },
    {
      "cell_type": "markdown",
      "source": [
        "## **Custom classes for my data**"
      ],
      "metadata": {
        "id": "o-HHaMJeoekI"
      }
    },
    {
      "cell_type": "code",
      "source": [
        "class CustomImageDataset(Dataset):\n",
        "    def __init__(self, image_dir, csv_file, transform=None):\n",
        "        self.image_dir = image_dir\n",
        "        self.annotations = pd.read_csv(csv_file)\n",
        "        self.transform = transform\n",
        "\n",
        "        # Map class labels\n",
        "        self.label_map = {'cat': 0, 'dog': 1, 'bird': 2}\n",
        "\n",
        "    def __len__(self):\n",
        "        return len(self.annotations)\n",
        "\n",
        "    def __getitem__(self, idx):\n",
        "        img_name = os.path.join(self.image_dir, self.annotations.iloc[idx, 0])\n",
        "        image = Image.open(img_name).convert(\"RGB\")\n",
        "        label = self.label_map[self.annotations.iloc[idx, 1]]\n",
        "\n",
        "        if self.transform:\n",
        "            image = self.transform(image)\n",
        "\n",
        "        return image, label"
      ],
      "metadata": {
        "id": "CkAVK7U42dXh"
      },
      "execution_count": null,
      "outputs": []
    },
    {
      "cell_type": "markdown",
      "source": [
        "# **Data Loading and Pre-processing Pipeline**\n",
        "\n",
        "## -> Normalize pixel values\n",
        "\n",
        "## -> Augmentations like rotation, flipping, and color jitter for robustness\n",
        "\n",
        "\n",
        "For training images are resized to 64x64 pixels, randomly flipped, rotated by up to 10° and adjusted for brightness and contrast*to enhance generalization. Both training and testing datasets are converted to PyTorch tensors and normalized with a mean and standard deviation of 0.5 to standardize pixel values."
      ],
      "metadata": {
        "id": "_e_S8Pxnoxgi"
      }
    },
    {
      "cell_type": "code",
      "source": [
        "train_dir = \"/content/drive/MyDrive/dataset/train\"\n",
        "train_csv = \"/content/drive/MyDrive/dataset/train.csv\"\n",
        "test_dir = \"/content/drive/MyDrive/dataset/test\"\n",
        "\n",
        "# Data Transforms\n",
        "train_transform = transforms.Compose([\n",
        "    transforms.Resize((64, 64)),\n",
        "    transforms.RandomHorizontalFlip(),\n",
        "    transforms.RandomRotation(10),\n",
        "    transforms.ColorJitter(brightness=0.2, contrast=0.2),\n",
        "    transforms.ToTensor(),\n",
        "    transforms.Normalize(mean=[0.5, 0.5, 0.5], std=[0.5, 0.5, 0.5])\n",
        "])\n",
        "\n",
        "test_transform = transforms.Compose([\n",
        "    transforms.Resize((64, 64)),\n",
        "    transforms.ToTensor(),\n",
        "    transforms.Normalize(mean=[0.5, 0.5, 0.5], std=[0.5, 0.5, 0.5])\n",
        "])\n",
        "\n",
        "# Loading datasets and SPlitting\n",
        "train_dataset = CustomImageDataset(image_dir=train_dir, csv_file=train_csv, transform=train_transform)\n",
        "train_size = int(0.8 * len(train_dataset))\n",
        "val_size = len(train_dataset) - train_size\n",
        "train_data, val_data = torch.utils.data.random_split(train_dataset, [train_size, val_size])\n",
        "\n",
        "train_loader = DataLoader(train_data, batch_size=64, shuffle=True, num_workers=2)\n",
        "val_loader = DataLoader(val_data, batch_size=64, shuffle=False, num_workers=2)"
      ],
      "metadata": {
        "id": "RFZ6N7Q62fP8"
      },
      "execution_count": null,
      "outputs": []
    },
    {
      "cell_type": "markdown",
      "source": [
        "## **Counting number of images in Training, Validatea nd test data**"
      ],
      "metadata": {
        "id": "dw7rwbWCp4Yx"
      }
    },
    {
      "cell_type": "code",
      "source": [
        "train_total = len(pd.read_csv(train_csv))  # Total train images\n",
        "train_split = int(0.8 * train_total)  # Training set after split (80%)\n",
        "val_split = train_total - train_split  # Validation set after split (20%)\n",
        "test_total = len(os.listdir(test_dir))  # Total test images\n",
        "\n",
        "# Print the counts\n",
        "print(f\"Total Images in Training Dataset: {train_split}\")\n",
        "print(f\"Total Images in Validation Dataset: {val_split}\")\n",
        "print(f\"Total Images in Test Dataset: {test_total}\")"
      ],
      "metadata": {
        "colab": {
          "base_uri": "https://localhost:8080/"
        },
        "id": "cbDZkxswkHoK",
        "outputId": "1fb8efd3-138f-4478-a7e2-7c9913d052a4"
      },
      "execution_count": null,
      "outputs": [
        {
          "output_type": "stream",
          "name": "stdout",
          "text": [
            "Total Images in Training Dataset: 9600\n",
            "Total Images in Validation Dataset: 2400\n",
            "Total Images in Test Dataset: 3000\n"
          ]
        }
      ]
    },
    {
      "cell_type": "markdown",
      "source": [
        "## **Validating number of images in train,validation and testing**"
      ],
      "metadata": {
        "id": "_ExwH5hyqSvP"
      }
    },
    {
      "cell_type": "code",
      "source": [
        "dataset_counts = {\n",
        "    \"Train\": train_split,\n",
        "    \"Validation\": val_split,\n",
        "    \"Test\": test_total\n",
        "}\n",
        "\n",
        "# Plot\n",
        "plt.figure(figsize=(8, 6))\n",
        "plt.bar(dataset_counts.keys(), dataset_counts.values())\n",
        "plt.title('Number of Images in Train, Validation, and Test Datasets')\n",
        "plt.xlabel('Dataset')\n",
        "plt.ylabel('Number of Images')\n",
        "plt.show()"
      ],
      "metadata": {
        "colab": {
          "base_uri": "https://localhost:8080/",
          "height": 564
        },
        "id": "KhAetR3vkJvL",
        "outputId": "eab88306-1cf7-4406-c0bc-57a96c74b9c8"
      },
      "execution_count": null,
      "outputs": [
        {
          "output_type": "display_data",
          "data": {
            "text/plain": [
              "<Figure size 800x600 with 1 Axes>"
            ],
            "image/png": "[encoded data removed]"
          },
          "metadata": {}
        }
      ]
    },
    {
      "cell_type": "markdown",
      "source": [
        "## **Custom labels for Test Data**"
      ],
      "metadata": {
        "id": "IY_8JWxTqoDG"
      }
    },
    {
      "cell_type": "code",
      "source": [
        "class TestDataset(Dataset):\n",
        "    def __init__(self, image_dir, transform=None):\n",
        "        self.image_dir = image_dir\n",
        "        self.image_files = os.listdir(image_dir)\n",
        "        self.transform = transform\n",
        "\n",
        "    def __len__(self):\n",
        "        return len(self.image_files)\n",
        "\n",
        "    def __getitem__(self, idx):\n",
        "        img_path = os.path.join(self.image_dir, self.image_files[idx])\n",
        "        image = Image.open(img_path).convert(\"RGB\")\n",
        "\n",
        "        if self.transform:\n",
        "            image = self.transform(image)\n",
        "\n",
        "        return image, self.image_files[idx]\n",
        "\n",
        "test_dataset = TestDataset(image_dir=test_dir, transform=test_transform)\n",
        "test_loader = DataLoader(test_dataset, batch_size=64, shuffle=False, num_workers=2)"
      ],
      "metadata": {
        "id": "qBeb3rC1245r"
      },
      "execution_count": null,
      "outputs": []
    },
    {
      "cell_type": "markdown",
      "source": [
        "### **Checking total traiining images**"
      ],
      "metadata": {
        "id": "9Rth7Nn4rCpl"
      }
    },
    {
      "cell_type": "code",
      "source": [
        "train_df = pd.read_csv(train_csv)\n",
        "print(\"Train Dataset Info:\")\n",
        "print(train_df.head())\n",
        "print(f\"Total Training Images: {len(train_df)}\")\n",
        "print(f\"Unique Labels: {train_df['label'].unique()}\")"
      ],
      "metadata": {
        "colab": {
          "base_uri": "https://localhost:8080/"
        },
        "id": "ZbD0Cj_ugFAH",
        "outputId": "8063545e-bc30-4ff5-871e-d14f1f739400"
      },
      "execution_count": null,
      "outputs": [
        {
          "output_type": "stream",
          "name": "stdout",
          "text": [
            "Train Dataset Info:\n",
            "       filename label\n",
            "0  cat_1516.png   cat\n",
            "1  dog_8219.png   dog\n",
            "2  cat_9086.png   cat\n",
            "3  cat_4941.png   cat\n",
            "4  bird_217.png  bird\n",
            "Total Training Images: 12000\n",
            "Unique Labels: ['cat' 'dog' 'bird']\n"
          ]
        }
      ]
    },
    {
      "cell_type": "markdown",
      "source": [
        "## **Balanced Dataset**"
      ],
      "metadata": {
        "id": "-fy3kF5ZrLlO"
      }
    },
    {
      "cell_type": "code",
      "source": [
        "plt.figure(figsize=(8, 6))\n",
        "sns.countplot(data=train_df, x='label')\n",
        "plt.title('Class Distribution in Training Dataset')\n",
        "plt.xlabel('Class')\n",
        "plt.ylabel('Count')\n",
        "plt.show()"
      ],
      "metadata": {
        "colab": {
          "base_uri": "https://localhost:8080/",
          "height": 564
        },
        "id": "AawdT3OAg3N6",
        "outputId": "f39e3352-eaaf-4a69-d8ab-ec8fab5e7dac"
      },
      "execution_count": null,
      "outputs": [
        {
          "output_type": "display_data",
          "data": {
            "text/plain": [
              "<Figure size 800x600 with 1 Axes>"
            ],
            "image/png": "[encoded data removed]"
          },
          "metadata": {}
        }
      ]
    },
    {
      "cell_type": "markdown",
      "source": [
        "### **Image Dimension checked**"
      ],
      "metadata": {
        "id": "3pTj6AZOrlR2"
      }
    },
    {
      "cell_type": "code",
      "source": [
        "sample_images = train_df['filename'].sample(5)\n",
        "for img_name in sample_images:\n",
        "    img_path = os.path.join(train_dir, img_name)\n",
        "    with Image.open(img_path) as img:\n",
        "        print(f\"{img_name}: {img.size}\")"
      ],
      "metadata": {
        "colab": {
          "base_uri": "https://localhost:8080/"
        },
        "id": "Rpq_WmLJkl3a",
        "outputId": "543b94e8-4f72-4e91-c942-2f3c6c3488fe"
      },
      "execution_count": null,
      "outputs": [
        {
          "output_type": "stream",
          "name": "stdout",
          "text": [
            "bird_10071.png: (32, 32)\n",
            "cat_6719.png: (32, 32)\n",
            "cat_5118.png: (32, 32)\n",
            "bird_5296.png: (32, 32)\n",
            "bird_4514.png: (32, 32)\n"
          ]
        }
      ]
    },
    {
      "cell_type": "markdown",
      "source": [
        "## **Visualize the dimension of Images**"
      ],
      "metadata": {
        "id": "fyYn91lurzEC"
      }
    },
    {
      "cell_type": "code",
      "source": [
        "image_dimensions = []\n",
        "for img_name in train_df['filename'].sample(500):\n",
        "    img_path = os.path.join(train_dir, img_name)\n",
        "    with Image.open(img_path) as img:\n",
        "        image_dimensions.append(img.size)\n",
        "\n",
        "widths, heights = zip(*image_dimensions)\n",
        "\n",
        "fig, axes = plt.subplots(1, 2, figsize=(12, 5))\n",
        "\n",
        "# Width Distribution\n",
        "axes[0].hist(widths, bins=30, color='skyblue', edgecolor='black')\n",
        "axes[0].set_title('Distribution of Image Widths')\n",
        "axes[0].set_xlabel('Width (pixels)')\n",
        "axes[0].set_ylabel('Number of Images')\n",
        "\n",
        "# Height Distribution\n",
        "axes[1].hist(heights, bins=30, color='lightgreen', edgecolor='black')\n",
        "axes[1].set_title('Distribution of Image Heights')\n",
        "axes[1].set_xlabel('Height (pixels)')\n",
        "axes[1].set_ylabel('Number of Images')\n",
        "\n",
        "plt.tight_layout()\n",
        "plt.show()"
      ],
      "metadata": {
        "colab": {
          "base_uri": "https://localhost:8080/",
          "height": 507
        },
        "id": "1om1yDK1nBOg",
        "outputId": "41c46ff3-8401-4f37-d946-f9ef78504dc0"
      },
      "execution_count": null,
      "outputs": [
        {
          "output_type": "display_data",
          "data": {
            "text/plain": [
              "<Figure size 1200x500 with 2 Axes>"
            ],
            "image/png": "[encoded data removed]"
          },
          "metadata": {}
        }
      ]
    },
    {
      "cell_type": "markdown",
      "source": [
        "## **Visualize a grid of sample images from each class**"
      ],
      "metadata": {
        "id": "mH64DdHbsBzy"
      }
    },
    {
      "cell_type": "code",
      "source": [
        "def visualize_samples_from_classes(image_dir, csv_file, class_names, samples_per_class=4):\n",
        "    df = pd.read_csv(csv_file)\n",
        "\n",
        "    fig, axes = plt.subplots(len(class_names), samples_per_class, figsize=(samples_per_class * 3, len(class_names) * 3))\n",
        "\n",
        "    for i, class_name in enumerate(class_names):\n",
        "        class_images = df[df['label'] == class_name].sample(samples_per_class)\n",
        "\n",
        "        for j, (_, row) in enumerate(class_images.iterrows()):\n",
        "            img_path = os.path.join(image_dir, row['filename'])\n",
        "            image = Image.open(img_path).convert('RGB')\n",
        "\n",
        "            ax = axes[i, j] if len(class_names) > 1 else axes[j]\n",
        "            ax.imshow(image)\n",
        "            ax.axis('off')\n",
        "            if j == 0:\n",
        "                ax.set_title(class_name, fontsize=12, fontweight='bold')\n",
        "\n",
        "    plt.tight_layout()\n",
        "    plt.show()\n",
        "\n",
        "image_dir = \"/content/drive/MyDrive/dataset/train\"\n",
        "csv_file = \"/content/drive/MyDrive/dataset/train.csv\"\n",
        "class_names = ['cat', 'dog', 'bird']\n",
        "\n",
        "visualize_samples_from_classes(image_dir, csv_file, class_names, samples_per_class=4)"
      ],
      "metadata": {
        "colab": {
          "base_uri": "https://localhost:8080/",
          "height": 907
        },
        "id": "SqWM2_ymhARn",
        "outputId": "2bd1a04a-f7c1-4893-e62b-9e56c77d8cc4"
      },
      "execution_count": null,
      "outputs": [
        {
          "output_type": "display_data",
          "data": {
            "text/plain": [
              "<Figure size 1200x900 with 12 Axes>"
            ],
            "image/png": "[encoded data removed]"
          },
          "metadata": {}
        }
      ]
    },
    {
      "cell_type": "markdown",
      "source": [
        "# **3.2 Model Development and Training**\n",
        "## **Simple CNN**"
      ],
      "metadata": {
        "id": "_yW1hcSBswWP"
      }
    },
    {
      "cell_type": "code",
      "source": [
        "class CNNModel(nn.Module):\n",
        "    def __init__(self):\n",
        "        super(CNNModel, self).__init__()\n",
        "        self.conv_layers = nn.Sequential(\n",
        "            nn.Conv2d(3, 32, kernel_size=3, stride=1, padding=1),\n",
        "            nn.ReLU(),\n",
        "            nn.MaxPool2d(2, 2),\n",
        "            nn.Conv2d(32, 64, kernel_size=3, stride=1, padding=1),\n",
        "            nn.ReLU(),\n",
        "            nn.MaxPool2d(2, 2)\n",
        "        )\n",
        "        self.fc_layers = nn.Sequential(\n",
        "            nn.Linear(64 * 16 * 16, 256),\n",
        "            nn.ReLU(),\n",
        "            nn.Dropout(0.5),\n",
        "            nn.Linear(256, 3)\n",
        "        )\n",
        "\n",
        "    def forward(self, x):\n",
        "        x = self.conv_layers(x)\n",
        "        x = x.view(x.size(0), -1)\n",
        "        x = self.fc_layers(x)\n",
        "        return x\n",
        "\n",
        "model = CNNModel().to(\"cuda\" if torch.cuda.is_available() else \"cpu\")"
      ],
      "metadata": {
        "id": "_wPL11JH2_0C"
      },
      "execution_count": null,
      "outputs": []
    },
    {
      "cell_type": "markdown",
      "source": [
        "### **Setting Loss Function and Optimizer (Adam)**"
      ],
      "metadata": {
        "id": "2mHq6hXMtPGg"
      }
    },
    {
      "cell_type": "code",
      "source": [
        "criterion = nn.CrossEntropyLoss()\n",
        "optimizer = optim.Adam(model.parameters(), lr=0.001)"
      ],
      "metadata": {
        "id": "9Rcf9AYr3FLc"
      },
      "execution_count": null,
      "outputs": []
    },
    {
      "cell_type": "markdown",
      "source": [
        "### **Model Training Fucntion**"
      ],
      "metadata": {
        "id": "Z1pFPOzLtZvf"
      }
    },
    {
      "cell_type": "code",
      "source": [
        "def train(model, loader):\n",
        "    model.train()\n",
        "    running_loss = 0.0\n",
        "    for inputs, labels in loader:\n",
        "        inputs, labels = inputs.to(device), labels.to(device)\n",
        "        optimizer.zero_grad()\n",
        "        outputs = model(inputs)\n",
        "        loss = criterion(outputs, labels)\n",
        "        loss.backward()\n",
        "        optimizer.step()\n",
        "        running_loss += loss.item()\n",
        "    return running_loss / len(loader)"
      ],
      "metadata": {
        "id": "gRK8FK8-3H3h"
      },
      "execution_count": null,
      "outputs": []
    },
    {
      "cell_type": "markdown",
      "source": [
        "### **Model Validation Fucntion**"
      ],
      "metadata": {
        "id": "eP7QAXnktn5A"
      }
    },
    {
      "cell_type": "code",
      "source": [
        "def validate(model, loader):\n",
        "    model.eval()\n",
        "    correct = 0\n",
        "    total = 0\n",
        "    with torch.no_grad():\n",
        "        for inputs, labels in loader:\n",
        "            inputs, labels = inputs.to(device), labels.to(device)\n",
        "            outputs = model(inputs)\n",
        "            _, predicted = outputs.max(1)\n",
        "            total += labels.size(0)\n",
        "            correct += (predicted == labels).sum().item()\n",
        "    return correct / total"
      ],
      "metadata": {
        "id": "xeTppSTr3Jzk"
      },
      "execution_count": null,
      "outputs": []
    },
    {
      "cell_type": "markdown",
      "source": [
        "### **Model Training and Validation Loop**\n",
        "#### In this loop model is trained on the training dataset and evaluated on the validation dataset at each epoch and then it providing metrics to track performance improvements over time"
      ],
      "metadata": {
        "id": "mC5-JC6btuts"
      }
    },
    {
      "cell_type": "code",
      "source": [
        "for epoch in range(10):\n",
        "    train_loss = train(model, train_loader)\n",
        "    val_acc = validate(model, val_loader)\n",
        "    print(f\"Epoch {epoch+1}: Loss: {train_loss:.4f}, Validation Accuracy: {val_acc:.4f}\")"
      ],
      "metadata": {
        "colab": {
          "base_uri": "https://localhost:8080/"
        },
        "id": "3vb44UEn3LTn",
        "outputId": "24c1c5ab-0ad7-4543-c123-fb717c038bbc"
      },
      "execution_count": null,
      "outputs": [
        {
          "output_type": "stream",
          "name": "stdout",
          "text": [
            "Epoch 1: Loss: 1.0043, Validation Accuracy: 0.5783\n",
            "Epoch 2: Loss: 0.8880, Validation Accuracy: 0.6058\n",
            "Epoch 3: Loss: 0.8370, Validation Accuracy: 0.6229\n",
            "Epoch 4: Loss: 0.8097, Validation Accuracy: 0.6458\n",
            "Epoch 5: Loss: 0.7831, Validation Accuracy: 0.6529\n",
            "Epoch 6: Loss: 0.7688, Validation Accuracy: 0.6571\n",
            "Epoch 7: Loss: 0.7464, Validation Accuracy: 0.6575\n",
            "Epoch 8: Loss: 0.7306, Validation Accuracy: 0.6633\n",
            "Epoch 9: Loss: 0.7071, Validation Accuracy: 0.6754\n",
            "Epoch 10: Loss: 0.6967, Validation Accuracy: 0.6658\n"
          ]
        }
      ]
    },
    {
      "cell_type": "markdown",
      "source": [
        "### **Save prediction in CSV for Kaggle submission--> CNN with 10 epochs**"
      ],
      "metadata": {
        "id": "EFHVOOGpuT-p"
      }
    },
    {
      "cell_type": "code",
      "source": [
        "label_map = {0: 'cat', 1: 'dog', 2: 'bird'}\n",
        "\n",
        "model.eval()\n",
        "predictions = []\n",
        "file_names = []\n",
        "\n",
        "with torch.no_grad():\n",
        "    for inputs, filenames in test_loader:\n",
        "        inputs = inputs.to(device)\n",
        "        outputs = model(inputs)\n",
        "        _, preds = outputs.max(1)\n",
        "        predictions.extend([label_map[pred.item()] for pred in preds.cpu()])\n",
        "        file_names.extend(filenames)\n",
        "\n",
        "submission = pd.DataFrame({'filename': file_names, 'label': predictions})\n",
        "submission.to_csv('submission04.csv', index=False)\n",
        "\n",
        "print(\"Submission file 'submission04.csv' saved successfully!\")"
      ],
      "metadata": {
        "colab": {
          "base_uri": "https://localhost:8080/"
        },
        "id": "-k9Om5IH3NzU",
        "outputId": "c09f45cc-11cb-4e24-9a64-ec79a2fe1ce8"
      },
      "execution_count": null,
      "outputs": [
        {
          "output_type": "stream",
          "name": "stdout",
          "text": [
            "Submission file 'submission04.csv' saved successfully!\n"
          ]
        }
      ]
    },
    {
      "cell_type": "markdown",
      "source": [
        "### **Training loop but with different epochs**"
      ],
      "metadata": {
        "id": "qfwaBpWtujId"
      }
    },
    {
      "cell_type": "code",
      "source": [
        "for epoch in range(20):\n",
        "    train_loss = train(model, train_loader)\n",
        "    val_acc = validate(model, val_loader)\n",
        "    print(f\"Epoch {epoch+1}: Loss: {train_loss:.4f}, Validation Accuracy: {val_acc:.4f}\")"
      ],
      "metadata": {
        "colab": {
          "base_uri": "https://localhost:8080/"
        },
        "id": "bm4eXz6iAsaN",
        "outputId": "5e5d6a12-c5de-4dd3-9ca4-cfc83c9dd96a"
      },
      "execution_count": null,
      "outputs": [
        {
          "output_type": "stream",
          "name": "stdout",
          "text": [
            "Epoch 1: Loss: 0.6912, Validation Accuracy: 0.6729\n",
            "Epoch 2: Loss: 0.6839, Validation Accuracy: 0.6913\n",
            "Epoch 3: Loss: 0.6614, Validation Accuracy: 0.6742\n",
            "Epoch 4: Loss: 0.6502, Validation Accuracy: 0.6954\n",
            "Epoch 5: Loss: 0.6370, Validation Accuracy: 0.6946\n",
            "Epoch 6: Loss: 0.6202, Validation Accuracy: 0.6983\n",
            "Epoch 7: Loss: 0.6202, Validation Accuracy: 0.6954\n",
            "Epoch 8: Loss: 0.6044, Validation Accuracy: 0.7033\n",
            "Epoch 9: Loss: 0.5873, Validation Accuracy: 0.7063\n",
            "Epoch 10: Loss: 0.5764, Validation Accuracy: 0.6983\n",
            "Epoch 11: Loss: 0.5692, Validation Accuracy: 0.7188\n",
            "Epoch 12: Loss: 0.5563, Validation Accuracy: 0.7167\n",
            "Epoch 13: Loss: 0.5520, Validation Accuracy: 0.7037\n",
            "Epoch 14: Loss: 0.5459, Validation Accuracy: 0.7133\n",
            "Epoch 15: Loss: 0.5278, Validation Accuracy: 0.7142\n",
            "Epoch 16: Loss: 0.5199, Validation Accuracy: 0.7175\n",
            "Epoch 17: Loss: 0.5210, Validation Accuracy: 0.7092\n",
            "Epoch 18: Loss: 0.5106, Validation Accuracy: 0.7229\n",
            "Epoch 19: Loss: 0.4918, Validation Accuracy: 0.7279\n",
            "Epoch 20: Loss: 0.4965, Validation Accuracy: 0.7196\n"
          ]
        }
      ]
    },
    {
      "cell_type": "markdown",
      "source": [
        "### **Save prediction in CSV for Kaggle submission --> CNN with 20 epochs**"
      ],
      "metadata": {
        "id": "-vi37Pebuztl"
      }
    },
    {
      "cell_type": "code",
      "source": [
        "label_map = {0: 'cat', 1: 'dog', 2: 'bird'}\n",
        "\n",
        "model.eval()\n",
        "predictions = []\n",
        "file_names = []\n",
        "\n",
        "with torch.no_grad():\n",
        "    for inputs, filenames in test_loader:\n",
        "        inputs = inputs.to(device)\n",
        "        outputs = model(inputs)\n",
        "        _, preds = outputs.max(1)\n",
        "        predictions.extend([label_map[pred.item()] for pred in preds.cpu()])\n",
        "        file_names.extend(filenames)\n",
        "\n",
        "submission = pd.DataFrame({'filename': file_names, 'label': predictions})\n",
        "submission.to_csv('submission05.csv', index=False)\n",
        "\n",
        "print(\"Submission file 'submission04.csv' saved successfully!\")"
      ],
      "metadata": {
        "colab": {
          "base_uri": "https://localhost:8080/"
        },
        "id": "T3DvRYvdC-NG",
        "outputId": "794fcf10-8212-498e-802d-2c43ee7567e3"
      },
      "execution_count": null,
      "outputs": [
        {
          "output_type": "stream",
          "name": "stdout",
          "text": [
            "Submission file 'submission04.csv' saved successfully!\n"
          ]
        }
      ]
    },
    {
      "cell_type": "markdown",
      "source": [
        "## **Advanced Models**\n",
        "### **1. ResNet**\n",
        "### **2. VGG**"
      ],
      "metadata": {
        "id": "oYqpCC-ZQF9M"
      }
    },
    {
      "cell_type": "code",
      "source": [
        "# ResNet-18 Model\n",
        "resnet_model = models.resnet18(pretrained=True)\n",
        "resnet_model.fc = nn.Linear(resnet_model.fc.in_features, 3)\n",
        "resnet_model = resnet_model.to(device)"
      ],
      "metadata": {
        "colab": {
          "base_uri": "https://localhost:8080/"
        },
        "id": "DLDyvf4UM03-",
        "outputId": "b3b72129-972b-48b1-a9c6-d9e4b0c376cf"
      },
      "execution_count": null,
      "outputs": [
        {
          "output_type": "stream",
          "name": "stderr",
          "text": [
            "/usr/local/lib/python3.10/dist-packages/torchvision/models/_utils.py:208: UserWarning: The parameter 'pretrained' is deprecated since 0.13 and may be removed in the future, please use 'weights' instead.\n",
            "  warnings.warn(\n",
            "/usr/local/lib/python3.10/dist-packages/torchvision/models/_utils.py:223: UserWarning: Arguments other than a weight enum or `None` for 'weights' are deprecated since 0.13 and may be removed in the future. The current behavior is equivalent to passing `weights=ResNet18_Weights.IMAGENET1K_V1`. You can also use `weights=ResNet18_Weights.DEFAULT` to get the most up-to-date weights.\n",
            "  warnings.warn(msg)\n",
            "Downloading: \"https://download.pytorch.org/models/resnet18-f37072fd.pth\" to /root/.cache/torch/hub/checkpoints/resnet18-f37072fd.pth\n",
            "100%|██████████| 44.7M/44.7M [00:00<00:00, 139MB/s]\n"
          ]
        }
      ]
    },
    {
      "cell_type": "code",
      "source": [
        "# VGG-16 Model\n",
        "vgg_model = models.vgg16(pretrained=True)\n",
        "vgg_model.classifier[6] = nn.Linear(vgg_model.classifier[6].in_features, 3)\n",
        "vgg_model = vgg_model.to(device)"
      ],
      "metadata": {
        "colab": {
          "base_uri": "https://localhost:8080/"
        },
        "id": "azBRsy3dQKix",
        "outputId": "dd114e77-4355-4462-ac32-d0a5e576e451"
      },
      "execution_count": null,
      "outputs": [
        {
          "output_type": "stream",
          "name": "stderr",
          "text": [
            "/usr/local/lib/python3.10/dist-packages/torchvision/models/_utils.py:223: UserWarning: Arguments other than a weight enum or `None` for 'weights' are deprecated since 0.13 and may be removed in the future. The current behavior is equivalent to passing `weights=VGG16_Weights.IMAGENET1K_V1`. You can also use `weights=VGG16_Weights.DEFAULT` to get the most up-to-date weights.\n",
            "  warnings.warn(msg)\n",
            "Downloading: \"https://download.pytorch.org/models/vgg16-397923af.pth\" to /root/.cache/torch/hub/checkpoints/vgg16-397923af.pth\n",
            "100%|██████████| 528M/528M [00:07<00:00, 75.0MB/s]\n"
          ]
        }
      ]
    },
    {
      "cell_type": "markdown",
      "source": [
        "## **Loss Function, Optimizer, Learning Rate Scheduler for ResNet & VGG**\n",
        "### **->Regularization (dropout, weight decay)**"
      ],
      "metadata": {
        "id": "VkAne-hzvX6z"
      }
    },
    {
      "cell_type": "code",
      "source": [
        "criterion = nn.CrossEntropyLoss()\n",
        "\n",
        "def get_optimizer_scheduler(model):\n",
        "    optimizer = optim.Adam(model.parameters(), lr=0.001, weight_decay=1e-4)\n",
        "    scheduler = lr_scheduler.StepLR(optimizer, step_size=7, gamma=0.1)\n",
        "    return optimizer, scheduler"
      ],
      "metadata": {
        "id": "RmDJJfy4QMiZ"
      },
      "execution_count": null,
      "outputs": []
    },
    {
      "cell_type": "markdown",
      "source": [
        "### **Function to train and validate VGG and ResNet**"
      ],
      "metadata": {
        "id": "8h__z-OHv8ZN"
      }
    },
    {
      "cell_type": "code",
      "source": [
        "def train(model, loader, optimizer, criterion):\n",
        "    model.train()\n",
        "    running_loss = 0.0\n",
        "    for inputs, labels in loader:\n",
        "        inputs, labels = inputs.to(device), labels.to(device)\n",
        "        optimizer.zero_grad()\n",
        "        outputs = model(inputs)\n",
        "        loss = criterion(outputs, labels)\n",
        "        loss.backward()\n",
        "        optimizer.step()\n",
        "        running_loss += loss.item()\n",
        "    return running_loss / len(loader)"
      ],
      "metadata": {
        "id": "H8QlYwfrQVMC"
      },
      "execution_count": null,
      "outputs": []
    },
    {
      "cell_type": "code",
      "source": [
        "def validate(model, loader, criterion):\n",
        "    model.eval()\n",
        "    correct = 0\n",
        "    total = 0\n",
        "    with torch.no_grad():\n",
        "        for inputs, labels in loader:\n",
        "            inputs, labels = inputs.to(device), labels.to(device)\n",
        "            outputs = model(inputs)\n",
        "            _, predicted = outputs.max(1)\n",
        "            total += labels.size(0)\n",
        "            correct += (predicted == labels).sum().item()\n",
        "    return correct / total\n"
      ],
      "metadata": {
        "id": "OrNkdcUEQXOL"
      },
      "execution_count": null,
      "outputs": []
    },
    {
      "cell_type": "code",
      "source": [
        "def train_and_validate(model, model_name):\n",
        "    optimizer, scheduler = get_optimizer_scheduler(model)\n",
        "    best_acc = 0.0\n",
        "\n",
        "    for epoch in range(10):\n",
        "        train_loss = train(model, train_loader, optimizer, criterion)\n",
        "        val_acc = validate(model, val_loader, criterion)\n",
        "        scheduler.step()\n",
        "\n",
        "        print(f\"{model_name} Epoch {epoch+1}: Loss: {train_loss:.4f}, Val Accuracy: {val_acc:.4f}\")\n",
        "\n",
        "        if val_acc > best_acc:\n",
        "            best_acc = val_acc\n",
        "            torch.save(model.state_dict(), f\"{model_name}_best_model.pth\")"
      ],
      "metadata": {
        "id": "bpxUVQHaQZVF"
      },
      "execution_count": null,
      "outputs": []
    },
    {
      "cell_type": "markdown",
      "source": [
        "### **ResNet Validating for 10 epochs**\n",
        "## **-> Batch Normalization**"
      ],
      "metadata": {
        "id": "H-a1Va75yd1_"
      }
    },
    {
      "cell_type": "code",
      "source": [
        "# Train ResNet-18\n",
        "train_and_validate(resnet_model, \"ResNet18\")"
      ],
      "metadata": {
        "colab": {
          "base_uri": "https://localhost:8080/"
        },
        "id": "ATIQr-TqQkKk",
        "outputId": "5357c1d2-876a-4d90-dc36-e101ff0fffff"
      },
      "execution_count": null,
      "outputs": [
        {
          "output_type": "stream",
          "name": "stdout",
          "text": [
            "ResNet18 Epoch 1: Loss: 0.6682, Val Accuracy: 0.7462\n",
            "ResNet18 Epoch 2: Loss: 0.4824, Val Accuracy: 0.7662\n",
            "ResNet18 Epoch 3: Loss: 0.4310, Val Accuracy: 0.7946\n",
            "ResNet18 Epoch 4: Loss: 0.3929, Val Accuracy: 0.8079\n",
            "ResNet18 Epoch 5: Loss: 0.3426, Val Accuracy: 0.8004\n",
            "ResNet18 Epoch 6: Loss: 0.3250, Val Accuracy: 0.7979\n",
            "ResNet18 Epoch 7: Loss: 0.2859, Val Accuracy: 0.8271\n",
            "ResNet18 Epoch 8: Loss: 0.1810, Val Accuracy: 0.8708\n",
            "ResNet18 Epoch 9: Loss: 0.1425, Val Accuracy: 0.8721\n",
            "ResNet18 Epoch 10: Loss: 0.1224, Val Accuracy: 0.8700\n"
          ]
        }
      ]
    },
    {
      "cell_type": "code",
      "source": [
        "def generate_predictions(model, model_name):\n",
        "    model.load_state_dict(torch.load(f\"{model_name}_best_model.pth\"))\n",
        "    model.eval()\n",
        "\n",
        "    label_map = {0: 'cat', 1: 'dog', 2: 'bird'}\n",
        "    predictions = []\n",
        "    file_names = []\n",
        "\n",
        "    with torch.no_grad():\n",
        "        for inputs, filenames in test_loader:\n",
        "            inputs = inputs.to(device)\n",
        "            outputs = model(inputs)\n",
        "            _, preds = outputs.max(1)\n",
        "            predictions.extend([label_map[pred.item()] for pred in preds.cpu()])\n",
        "            file_names.extend(filenames)\n",
        "\n",
        "    submission = pd.DataFrame({'filename': file_names, 'label': predictions})\n",
        "    submission.to_csv(f'{model_name}_submission.csv', index=False)\n",
        "    print(f\"{model_name} submission file saved successfully!\")"
      ],
      "metadata": {
        "id": "h5D4Wb35eZYG"
      },
      "execution_count": null,
      "outputs": []
    },
    {
      "cell_type": "markdown",
      "source": [
        "## **Generating predicitons for resNet**"
      ],
      "metadata": {
        "id": "fsoZOTviyrjD"
      }
    },
    {
      "cell_type": "code",
      "source": [
        "generate_predictions(resnet_model, \"ResNet18\")"
      ],
      "metadata": {
        "colab": {
          "base_uri": "https://localhost:8080/"
        },
        "id": "5Yxu7gHfecEC",
        "outputId": "02c3cdeb-e162-4d89-c386-3dbd8073604a"
      },
      "execution_count": null,
      "outputs": [
        {
          "output_type": "stream",
          "name": "stderr",
          "text": [
            "<ipython-input-33-7c6df7b5ea5c>:2: FutureWarning: You are using `torch.load` with `weights_only=False` (the current default value), which uses the default pickle module implicitly. It is possible to construct malicious pickle data which will execute arbitrary code during unpickling (See https://github.com/pytorch/pytorch/blob/main/SECURITY.md#untrusted-models for more details). In a future release, the default value for `weights_only` will be flipped to `True`. This limits the functions that could be executed during unpickling. Arbitrary objects will no longer be allowed to be loaded via this mode unless they are explicitly allowlisted by the user via `torch.serialization.add_safe_globals`. We recommend you start setting `weights_only=True` for any use case where you don't have full control of the loaded file. Please open an issue on GitHub for any issues related to this experimental feature.\n",
            "  model.load_state_dict(torch.load(f\"{model_name}_best_model.pth\"))\n"
          ]
        },
        {
          "output_type": "stream",
          "name": "stdout",
          "text": [
            "ResNet18 submission file saved successfully!\n"
          ]
        }
      ]
    },
    {
      "cell_type": "code",
      "source": [
        "def train_and_validate(model, model_name):\n",
        "    optimizer, scheduler = get_optimizer_scheduler(model)\n",
        "    best_acc = 0.0\n",
        "\n",
        "    for epoch in range(20):\n",
        "        train_loss = train(model, train_loader, optimizer, criterion)\n",
        "        val_acc = validate(model, val_loader, criterion)\n",
        "        scheduler.step()\n",
        "\n",
        "        print(f\"{model_name} Epoch {epoch+1}: Loss: {train_loss:.4f}, Val Accuracy: {val_acc:.4f}\")\n",
        "\n",
        "        if val_acc > best_acc:\n",
        "            best_acc = val_acc\n",
        "            torch.save(model.state_dict(), f\"{model_name}_best_model.pth\")"
      ],
      "metadata": {
        "id": "7G-oEkwKQ13L"
      },
      "execution_count": null,
      "outputs": []
    },
    {
      "cell_type": "markdown",
      "source": [
        "## **Again train and validate but with 20 epochs**"
      ],
      "metadata": {
        "id": "IPwy_Q58y3On"
      }
    },
    {
      "cell_type": "code",
      "source": [
        "train_and_validate(resnet_model, \"ResNet18\")"
      ],
      "metadata": {
        "colab": {
          "base_uri": "https://localhost:8080/"
        },
        "id": "867dI_otQrse",
        "outputId": "0762db8c-cf90-4072-93b8-57d342e38e81"
      },
      "execution_count": null,
      "outputs": [
        {
          "output_type": "stream",
          "name": "stdout",
          "text": [
            "ResNet18 Epoch 1: Loss: 0.2258, Val Accuracy: 0.8163\n",
            "ResNet18 Epoch 2: Loss: 0.2029, Val Accuracy: 0.8367\n",
            "ResNet18 Epoch 3: Loss: 0.1861, Val Accuracy: 0.8396\n",
            "ResNet18 Epoch 4: Loss: 0.1675, Val Accuracy: 0.8346\n",
            "ResNet18 Epoch 5: Loss: 0.1590, Val Accuracy: 0.8271\n",
            "ResNet18 Epoch 6: Loss: 0.1585, Val Accuracy: 0.8446\n",
            "ResNet18 Epoch 7: Loss: 0.1390, Val Accuracy: 0.8225\n",
            "ResNet18 Epoch 8: Loss: 0.0830, Val Accuracy: 0.8604\n",
            "ResNet18 Epoch 9: Loss: 0.0516, Val Accuracy: 0.8608\n",
            "ResNet18 Epoch 10: Loss: 0.0382, Val Accuracy: 0.8608\n",
            "ResNet18 Epoch 11: Loss: 0.0392, Val Accuracy: 0.8679\n",
            "ResNet18 Epoch 12: Loss: 0.0325, Val Accuracy: 0.8688\n",
            "ResNet18 Epoch 13: Loss: 0.0274, Val Accuracy: 0.8608\n",
            "ResNet18 Epoch 14: Loss: 0.0218, Val Accuracy: 0.8633\n",
            "ResNet18 Epoch 15: Loss: 0.0179, Val Accuracy: 0.8608\n",
            "ResNet18 Epoch 16: Loss: 0.0180, Val Accuracy: 0.8642\n",
            "ResNet18 Epoch 17: Loss: 0.0155, Val Accuracy: 0.8692\n",
            "ResNet18 Epoch 18: Loss: 0.0129, Val Accuracy: 0.8692\n",
            "ResNet18 Epoch 19: Loss: 0.0162, Val Accuracy: 0.8592\n",
            "ResNet18 Epoch 20: Loss: 0.0150, Val Accuracy: 0.8592\n"
          ]
        }
      ]
    },
    {
      "cell_type": "markdown",
      "source": [
        "# **ResNet-18 Hyperparameter Tuning**"
      ],
      "metadata": {
        "id": "q1vWu1KxNV2q"
      }
    },
    {
      "cell_type": "markdown",
      "source": [
        "## --> Enhanced Data Augmentation\n",
        "## --> Improved Data Transformations"
      ],
      "metadata": {
        "id": "6u1obVzDzHkW"
      }
    },
    {
      "cell_type": "code",
      "source": [
        "train_transform = transforms.Compose([\n",
        "    transforms.Resize((128, 128)),\n",
        "    transforms.RandomHorizontalFlip(),\n",
        "    transforms.RandomRotation(15),\n",
        "    transforms.RandomAffine(10),\n",
        "    transforms.RandomResizedCrop(128, scale=(0.8, 1.0)),\n",
        "    transforms.ColorJitter(brightness=0.3, contrast=0.3, saturation=0.3, hue=0.1),\n",
        "    transforms.ToTensor(),\n",
        "    transforms.Normalize(mean=[0.5, 0.5, 0.5], std=[0.5, 0.5, 0.5])\n",
        "])\n",
        "\n",
        "test_transform = transforms.Compose([\n",
        "    transforms.Resize((128, 128)),\n",
        "    transforms.ToTensor(),\n",
        "    transforms.Normalize(mean=[0.5, 0.5, 0.5], std=[0.5, 0.5, 0.5])\n",
        "])"
      ],
      "metadata": {
        "id": "T0eC5h0MoOpO"
      },
      "execution_count": null,
      "outputs": []
    },
    {
      "cell_type": "markdown",
      "source": [
        "###  **Optimizer,Scheduler and Gradient Clipping**\n",
        "## **Regularization**\n",
        "\n",
        "## ->  Optimizer with Weight Decay and Gradient Clipping\n",
        "## -> Cosine Annealing Scheduler\n",
        "\n",
        "\n",
        "\n"
      ],
      "metadata": {
        "id": "fQOf8bOtzQIw"
      }
    },
    {
      "cell_type": "code",
      "source": [
        "optimizer = optim.AdamW(resnet_model.parameters(), lr=0.001, weight_decay=1e-4)\n",
        "\n",
        "scheduler = CosineAnnealingLR(optimizer, T_max=10, eta_min=1e-6)"
      ],
      "metadata": {
        "id": "c4kobg5XNfT0"
      },
      "execution_count": null,
      "outputs": []
    },
    {
      "cell_type": "markdown",
      "source": [
        "# **Ensemble Models**"
      ],
      "metadata": {
        "id": "x0i6btv806a2"
      }
    },
    {
      "cell_type": "markdown",
      "source": [
        "### **Gradient in training**"
      ],
      "metadata": {
        "id": "Cm40ax3Q0B4u"
      }
    },
    {
      "cell_type": "code",
      "source": [
        "def train_with_clipping(model, loader, optimizer, criterion):\n",
        "    model.train()\n",
        "    running_loss = 0.0\n",
        "    for inputs, labels in loader:\n",
        "        inputs, labels = inputs.to(device), labels.to(device)\n",
        "        optimizer.zero_grad()\n",
        "        outputs = model(inputs)\n",
        "        loss = criterion(outputs, labels)\n",
        "        loss.backward()\n",
        "\n",
        "        # Apply gradient clipping\n",
        "        torch.nn.utils.clip_grad_norm_(model.parameters(), max_norm=1.0)\n",
        "\n",
        "        optimizer.step()\n",
        "        running_loss += loss.item()\n",
        "    return running_loss / len(loader)"
      ],
      "metadata": {
        "id": "Puv2uEwYNjxM"
      },
      "execution_count": null,
      "outputs": []
    },
    {
      "cell_type": "markdown",
      "source": [
        "### **MixUp Data Augmentation**"
      ],
      "metadata": {
        "id": "TMOQ8FnZ0MG6"
      }
    },
    {
      "cell_type": "code",
      "source": [
        "def mixup_data(x, y, alpha=1.0):\n",
        "    \"\"\"Apply MixUp augmentation\"\"\"\n",
        "    if alpha > 0:\n",
        "        lam = np.random.beta(alpha, alpha)\n",
        "    else:\n",
        "        lam = 1\n",
        "\n",
        "    batch_size = x.size()[0]\n",
        "    index = torch.randperm(batch_size).to(device)\n",
        "\n",
        "    mixed_x = lam * x + (1 - lam) * x[index, :]\n",
        "    y_a, y_b = y, y[index]\n",
        "    return mixed_x, y_a, y_b, lam\n",
        "\n",
        "def mixup_criterion(criterion, pred, y_a, y_b, lam):\n",
        "    return lam * criterion(pred, y_a) + (1 - lam) * criterion(pred, y_b)"
      ],
      "metadata": {
        "id": "d9hmUsZINpgP"
      },
      "execution_count": null,
      "outputs": []
    },
    {
      "cell_type": "code",
      "source": [
        "# Update Training Loop for MixUp\n",
        "def train_with_mixup(model, loader, optimizer, criterion):\n",
        "    model.train()\n",
        "    running_loss = 0.0\n",
        "    for inputs, labels in loader:\n",
        "        inputs, labels = inputs.to(device), labels.to(device)\n",
        "        inputs, labels_a, labels_b, lam = mixup_data(inputs, labels)\n",
        "        optimizer.zero_grad()\n",
        "        outputs = model(inputs)\n",
        "        loss = mixup_criterion(criterion, outputs, labels_a, labels_b, lam)\n",
        "        loss.backward()\n",
        "        optimizer.step()\n",
        "        running_loss += loss.item()\n",
        "    return running_loss / len(loader)"
      ],
      "metadata": {
        "id": "8ci6y4Z0Nwek"
      },
      "execution_count": null,
      "outputs": []
    },
    {
      "cell_type": "markdown",
      "source": [
        "## **Fine-Tune**"
      ],
      "metadata": {
        "id": "QsXkvN7t0VGH"
      }
    },
    {
      "cell_type": "code",
      "source": [
        "for param in resnet_model.parameters():\n",
        "    param.requires_grad = True\n",
        "\n",
        "optimizer = optim.AdamW(resnet_model.parameters(), lr=1e-4, weight_decay=1e-4)"
      ],
      "metadata": {
        "id": "p2Vb4re6N2Jz"
      },
      "execution_count": null,
      "outputs": []
    },
    {
      "cell_type": "markdown",
      "source": [
        "## **Improved Training and Validation Loop**"
      ],
      "metadata": {
        "id": "GEvHQCh30fX2"
      }
    },
    {
      "cell_type": "code",
      "source": [
        "def train_and_validate_improved(model, model_name):\n",
        "    optimizer = optim.AdamW(model.parameters(), lr=0.0005, weight_decay=1e-4)\n",
        "    scheduler = CosineAnnealingLR(optimizer, T_max=10, eta_min=1e-6)\n",
        "    criterion = nn.CrossEntropyLoss()\n",
        "\n",
        "    best_acc = 0.0\n",
        "\n",
        "    for epoch in range(20):  # Increased epochs\n",
        "        if epoch < 10:\n",
        "            train_loss = train_with_mixup(model, train_loader, optimizer, criterion)\n",
        "        else:\n",
        "            train_loss = train_with_clipping(model, train_loader, optimizer, criterion)\n",
        "\n",
        "        val_acc = validate(model, val_loader, criterion)\n",
        "        scheduler.step()\n",
        "\n",
        "        print(f\"Epoch {epoch+1}: Loss: {train_loss:.4f}, Val Accuracy: {val_acc:.4f}\")\n",
        "\n",
        "        if val_acc > best_acc:\n",
        "            best_acc = val_acc\n",
        "            torch.save(model.state_dict(), f\"{model_name}_best_model_improved.pth\")"
      ],
      "metadata": {
        "id": "JrlKnSqKN6KU"
      },
      "execution_count": null,
      "outputs": []
    },
    {
      "cell_type": "markdown",
      "source": [
        "## **Train resNet with different techniques**"
      ],
      "metadata": {
        "id": "KaQGZ_wq0k87"
      }
    },
    {
      "cell_type": "code",
      "source": [
        "train_and_validate_improved(resnet_model, \"ResNet18\") #early stop, no improvment"
      ],
      "metadata": {
        "colab": {
          "base_uri": "https://localhost:8080/"
        },
        "id": "sGeUrDw1OES2",
        "outputId": "df7e98ea-720f-450f-941f-3a2a2785737f"
      },
      "execution_count": null,
      "outputs": [
        {
          "output_type": "stream",
          "name": "stdout",
          "text": [
            "Epoch 1: Loss: 0.7159, Val Accuracy: 0.8575\n",
            "Epoch 2: Loss: 0.6174, Val Accuracy: 0.8525\n",
            "Epoch 3: Loss: 0.5782, Val Accuracy: 0.8642\n",
            "Epoch 4: Loss: 0.6063, Val Accuracy: 0.8629\n",
            "Epoch 5: Loss: 0.5701, Val Accuracy: 0.8625\n",
            "Epoch 6: Loss: 0.5611, Val Accuracy: 0.8700\n",
            "Epoch 7: Loss: 0.6129, Val Accuracy: 0.8612\n",
            "Epoch 8: Loss: 0.5932, Val Accuracy: 0.8683\n",
            "Epoch 9: Loss: 0.5451, Val Accuracy: 0.8642\n",
            "Epoch 10: Loss: 0.5366, Val Accuracy: 0.8679\n",
            "Epoch 11: Loss: 0.1121, Val Accuracy: 0.8725\n",
            "Epoch 12: Loss: 0.0653, Val Accuracy: 0.8662\n",
            "Epoch 13: Loss: 0.0284, Val Accuracy: 0.8779\n",
            "Epoch 14: Loss: 0.0146, Val Accuracy: 0.8738\n",
            "Epoch 15: Loss: 0.0099, Val Accuracy: 0.8712\n",
            "Epoch 16: Loss: 0.0130, Val Accuracy: 0.8558\n",
            "Epoch 17: Loss: 0.0218, Val Accuracy: 0.8588\n",
            "Epoch 18: Loss: 0.0356, Val Accuracy: 0.8454\n"
          ]
        }
      ]
    },
    {
      "cell_type": "code",
      "source": [],
      "metadata": {
        "id": "9dFVghWGec7k"
      },
      "execution_count": null,
      "outputs": []
    }
  ]
}